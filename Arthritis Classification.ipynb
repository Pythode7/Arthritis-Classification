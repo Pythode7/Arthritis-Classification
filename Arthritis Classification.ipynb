{
 "cells": [
  {
   "cell_type": "code",
   "execution_count": 142,
   "id": "57663b88",
   "metadata": {},
   "outputs": [],
   "source": [
    "from sklearn.model_selection import train_test_split\n",
    "\n",
    "# models will be created using six algorithms\n",
    "from sklearn.tree import DecisionTreeClassifier, plot_tree\n",
    "from sklearn.svm import SVC\n",
    "from sklearn.naive_bayes import GaussianNB\n",
    "from sklearn.neighbors import KNeighborsClassifier\n",
    "from sklearn.linear_model import LogisticRegression\n",
    "from sklearn.neural_network import MLPClassifier\n",
    "\n",
    "#feature select methods\n",
    "from sklearn.feature_selection import RFE, SelectFromModel, SelectKBest, f_classif\n",
    "\n",
    "from sklearn.metrics import accuracy_score, precision_score, recall_score, roc_auc_score\n"
   ]
  },
  {
   "cell_type": "code",
   "execution_count": 143,
   "id": "68a796e8",
   "metadata": {
    "scrolled": true
   },
   "outputs": [],
   "source": [
    "from scipy.io import arff\n",
    "import numpy as np\n",
    "import pandas as pd\n",
    "from sklearn.impute import SimpleImputer\n",
    "from sklearn.preprocessing import MultiLabelBinarizer\n",
    "from sklearn.preprocessing import StandardScaler\n",
    "\n",
    "data = arff.loadarff('project-2018-BRFSS-arthritis.arff')\n",
    "df = pd.DataFrame(dataset[0])\n",
    "df.head()\n",
    "df = df.replace(b'?', np.nan)"
   ]
  },
  {
   "cell_type": "code",
   "execution_count": 144,
   "id": "2fc4f680",
   "metadata": {},
   "outputs": [],
   "source": [
    "# Create an imputer for categorical columns with strategy as 'most_frequent' (mode)\n",
    "cat_imputer = SimpleImputer(strategy='most_frequent')\n",
    "\n",
    "# Create an imputer for numerical columns with strategy as 'mean'\n",
    "num_imputer = SimpleImputer(strategy='mean')"
   ]
  },
  {
   "cell_type": "code",
   "execution_count": 145,
   "id": "f50c2e47",
   "metadata": {},
   "outputs": [],
   "source": [
    "# for categorical column fill the missing value with mode, for numeric value fill the missing value with mean \n",
    "for column in df.columns[:-1]:\n",
    "    if df[column].dtype == 'O':\n",
    "        df[column] = cat_imputer.fit_transform(df[column].values.reshape(-1, 1))\n",
    "    else:\n",
    "        df[column] = num_imputer.fit_transform(df[column].values.reshape(-1, 1))\n",
    "        \n",
    "# Replace infinity values with a large finite value\n",
    "df = df.replace([np.inf, -np.inf], np.finfo(np.float64).max)"
   ]
  },
  {
   "cell_type": "code",
   "execution_count": 146,
   "id": "801f2974",
   "metadata": {
    "scrolled": true
   },
   "outputs": [],
   "source": [
    "# drop the rows with missing value in class attribute column\n",
    "df_dropped = df.dropna()"
   ]
  },
  {
   "cell_type": "code",
   "execution_count": 147,
   "id": "c5c084b9",
   "metadata": {
    "scrolled": true
   },
   "outputs": [
    {
     "name": "stderr",
     "output_type": "stream",
     "text": [
      "<ipython-input-147-868e26c05380>:1: FutureWarning: In a future version of pandas all arguments of DataFrame.drop except for the argument 'labels' will be keyword-only\n",
      "  X = df.drop('havarth3', 1) #Fearture Matrix\n"
     ]
    }
   ],
   "source": [
    "X = df.drop(columns=['havarth3']) #Fearture Matrix\n",
    "y = df['havarth3']         #Target Variable        \n",
    "\n",
    "# Scale the data to avoid values too large for float64\n",
    "scaler = StandardScaler()\n",
    "df = pd.DataFrame(scaler.fit_transform(df), columns=df.columns)"
   ]
  },
  {
   "cell_type": "code",
   "execution_count": 148,
   "id": "9bb2dc82",
   "metadata": {},
   "outputs": [],
   "source": [
    "X_train, X_test, y_train, y_test = train_test_split(X, y, test_size=0.25, random_state=1)\n",
    "\n",
    "#convert the multi-label data into a binary array\n",
    "mlb = MultiLabelBinarizer()\n",
    "y_train = mlb.fit_transform(y_train)\n",
    "y_train = y_train.argmax(axis=1)\n",
    "y_test = mlb.fit_transform(y_test)\n",
    "y_test = y_test.argmax(axis=1)"
   ]
  },
  {
   "cell_type": "code",
   "execution_count": 149,
   "id": "134687ec",
   "metadata": {},
   "outputs": [],
   "source": [
    "# Select 8 best features based on ANOVA F-value\n",
    "selector = SelectKBest(f_classif, k=8)\n",
    "X_train_new = selector.fit_transform(X_train, y_train)\n",
    "X_test_new = selector.transform(X_test)"
   ]
  },
  {
   "cell_type": "code",
   "execution_count": 150,
   "id": "bdb0538e",
   "metadata": {},
   "outputs": [],
   "source": [
    "# Define the models\n",
    "models = {\n",
    "    'Naive Bayes': GaussianNB(),\n",
    "    # increase the number of iterations allowed for the logistic regression model to 1000\n",
    "    'Logistic': LogisticRegression(max_iter=1000),\n",
    "    'SVM': SVC(probability=True),\n",
    "    'Decision Tree': DecisionTreeClassifier(),\n",
    "    'Neural': MLPClassifier(),\n",
    "    'KNN': KNeighborsClassifier()\n",
    "}"
   ]
  },
  {
   "cell_type": "code",
   "execution_count": 151,
   "id": "a0a6454c",
   "metadata": {},
   "outputs": [],
   "source": [
    "# Feature selection methods\n",
    "feature_selection_methods = {\n",
    "    'RFE': RFE(estimator=LogisticRegression(), n_features_to_select=8),\n",
    "    'SelectFromModel': SelectFromModel(LogisticRegression()),\n",
    "    'SelectKBest': SelectKBest(f_classif, k=8)\n",
    "}"
   ]
  },
  {
   "cell_type": "code",
   "execution_count": 161,
   "id": "7b74893b",
   "metadata": {
    "scrolled": true
   },
   "outputs": [
    {
     "name": "stdout",
     "output_type": "stream",
     "text": [
      "Feature Selection Method: RFE\n",
      "Feature Selection Method: SelectFromModel\n",
      "Feature Selection Method: SelectKBest\n"
     ]
    }
   ],
   "source": [
    "#create a dataframe to store the results\n",
    "results = pd.DataFrame(columns=['Feature Selection Method', 'Model', 'Accuracy', 'Precision', 'Recall', 'AUC-ROC'])\n",
    "\n",
    "\n",
    "# Apply feature selection methods and models\n",
    "for fs_name, fs_method in feature_selection_methods.items():\n",
    "    X_train_new = fs_method.fit_transform(X_train, y_train)\n",
    "    X_test_new = fs_method.transform(X_test)\n",
    "    \n",
    "    print(f\"Feature Selection Method: {fs_name}\")\n",
    "    for model_name, model in models.items():\n",
    "        model.fit(X_train_new, y_train)\n",
    "        y_pred = model.predict(X_test_new)\n",
    "        y_prob = model.predict_proba(X_test_new)[:, 1]\n",
    "\n",
    "        accuracy = accuracy_score(y_test, y_pred)\n",
    "        # setting of zero_division is arbitrary \n",
    "        precision = precision_score(y_test, y_pred, zero_division=0)\n",
    "        recall = recall_score(y_test, y_pred)\n",
    "        auc_roc = roc_auc_score(y_test, y_prob)\n",
    "        \n",
    "        results = results.append({\n",
    "            'Feature Selection Method': fs_name,\n",
    "            'Model': model_name,\n",
    "            'Accuracy': accuracy,\n",
    "            'Precision': precision,\n",
    "            'Recall': recall,\n",
    "            'AUC-ROC': auc_roc\n",
    "        }, ignore_index=True)\n",
    "        "
   ]
  },
  {
   "cell_type": "code",
   "execution_count": 166,
   "id": "0f1ae275",
   "metadata": {
    "scrolled": false
   },
   "outputs": [],
   "source": [
    "results"
   ]
  },
  {
   "cell_type": "code",
   "execution_count": 159,
   "id": "2c681ac4",
   "metadata": {},
   "outputs": [],
   "source": [
    "# import pip\n",
    "# pip.main(['install','seaborn'])"
   ]
  },
  {
   "cell_type": "code",
   "execution_count": 164,
   "id": "b63dfd35",
   "metadata": {
    "scrolled": true
   },
   "outputs": [],
   "source": [
    "# import seaborn as sns\n",
    "# import matplotlib.pyplot as plt\n",
    "\n",
    "# plt.figure(figsize=(15, 10))\n",
    "\n",
    "# # Plot each metric\n",
    "# for i, metric in enumerate(['Accuracy', 'Precision', 'Recall', 'AUC-ROC']):\n",
    "#     plt.subplot(2, 2, i+1)\n",
    "#     sns.barplot(x=metric, y='Model', hue='Feature Selection Method', data=results, ci=None)\n",
    "#     plt.title(metric)\n",
    "#     plt.xlabel('Score')\n",
    "\n",
    "# plt.tight_layout()\n",
    "# plt.show()\n"
   ]
  }
 ],
 "metadata": {
  "kernelspec": {
   "display_name": "Python 3",
   "language": "python",
   "name": "python3"
  },
  "language_info": {
   "codemirror_mode": {
    "name": "ipython",
    "version": 3
   },
   "file_extension": ".py",
   "mimetype": "text/x-python",
   "name": "python",
   "nbconvert_exporter": "python",
   "pygments_lexer": "ipython3",
   "version": "3.8.5"
  }
 },
 "nbformat": 4,
 "nbformat_minor": 5
}
